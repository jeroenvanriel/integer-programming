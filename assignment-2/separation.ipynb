{
 "cells": [
  {
   "cell_type": "code",
   "execution_count": 1,
   "metadata": {},
   "outputs": [],
   "source": [
    "import gurobipy as gp\n",
    "import numpy as np\n",
    "import matplotlib.pyplot as plt\n",
    "import random\n",
    "import itertools\n",
    "import typing\n",
    "import networkx as nx"
   ]
  },
  {
   "attachments": {},
   "cell_type": "markdown",
   "metadata": {},
   "source": [
    "# Example 1: Knapsack problem\n",
    "\n",
    "Given a set of items $I = \\{ 1, \\dots, {\\rm n_{items}}\\}$, each $i \\in I$ having an associated weight $w_i$ and profit $p_i$,\n",
    "we want to select the items yielding maximal profit within a weight restriction $W_{\\max}$.\n",
    "\n",
    "$$\n",
    "\\begin{aligned}\n",
    "\\text{Maximize}\\\n",
    "& \\sum_{i \\in I} p_i x_i\n",
    "\\\\\n",
    "\\text{Subject to}\\\n",
    "& \\sum_{i \\in I} w_i x_i \\leq W_{\\max}\n",
    "\\\\\n",
    "& x_i \\in \\{ 0, 1 \\}\n",
    "& \\text{for all}\\ i \\in I\n",
    "\\end{aligned}\n",
    "$$"
   ]
  },
  {
   "cell_type": "code",
   "execution_count": 2,
   "metadata": {},
   "outputs": [
    {
     "name": "stdout",
     "output_type": "stream",
     "text": [
      "Weights: [13, 14, 2, 9, 17, 16, 13, 10, 16, 12, 19, 7, 17, 5, 10, 5, 4, 20, 9, 18]\n",
      "Profits: [20, 5, 10, 4, 3, 11, 16, 18, 4, 12, 14, 11, 20, 7, 18, 16, 15, 17, 9, 2]\n",
      "Maximal weight: 150\n"
     ]
    }
   ],
   "source": [
    "# Knapsack problem. Invent some data\n",
    "random.seed(0)\n",
    "n_items = 20\n",
    "max_weight_range = 20\n",
    "max_profit_range = 20\n",
    "\n",
    "weights = [random.randint(1, max_weight_range) for _ in range(n_items)]\n",
    "profits = [random.randint(1, max_profit_range) for _ in range(n_items)]\n",
    "max_weight = 150  # How much we can pack maximally\n",
    "\n",
    "print(f\"Weights: {weights}\")\n",
    "print(f\"Profits: {profits}\")\n",
    "print(f\"Maximal weight: {max_weight}\")"
   ]
  },
  {
   "cell_type": "code",
   "execution_count": 3,
   "metadata": {},
   "outputs": [
    {
     "name": "stdout",
     "output_type": "stream",
     "text": [
      "Set parameter GURO_PAR_SPECIAL\n",
      "Set parameter TokenServer to value \"TUELICENSE4.campus.tue.nl\"\n"
     ]
    }
   ],
   "source": [
    "# Create model\n",
    "model : gp.Model = gp.Model(\"knapsack\")\n",
    "\n",
    "# Introduce variable x, whether item (i) is included.\n",
    "x = model.addVars(range(n_items), vtype=gp.GRB.BINARY, name=\"x\")\n",
    "\n",
    "model.addConstr(\n",
    "    gp.quicksum(weights[i] * x[i] for i in range(n_items)) <= max_weight\n",
    ")\n",
    "\n",
    "model.setObjective(\n",
    "    gp.quicksum(profits[i] * x[i] for i in range(n_items)),\n",
    "    sense=gp.GRB.MAXIMIZE\n",
    ")"
   ]
  },
  {
   "attachments": {},
   "cell_type": "markdown",
   "metadata": {},
   "source": [
    "## Solving with default settings"
   ]
  },
  {
   "cell_type": "code",
   "execution_count": 4,
   "metadata": {},
   "outputs": [
    {
     "name": "stdout",
     "output_type": "stream",
     "text": [
      "Gurobi Optimizer version 10.0.1 build v10.0.1rc0 (linux64)\n",
      "\n",
      "CPU model: Intel(R) Core(TM) i7-9750H CPU @ 2.60GHz, instruction set [SSE2|AVX|AVX2]\n",
      "Thread count: 6 physical cores, 12 logical processors, using up to 12 threads\n",
      "\n",
      "Optimize a model with 1 rows, 20 columns and 20 nonzeros\n",
      "Model fingerprint: 0x7f939226\n",
      "Variable types: 0 continuous, 20 integer (20 binary)\n",
      "Coefficient statistics:\n",
      "  Matrix range     [2e+00, 2e+01]\n",
      "  Objective range  [2e+00, 2e+01]\n",
      "  Bounds range     [1e+00, 1e+00]\n",
      "  RHS range        [2e+02, 2e+02]\n",
      "Found heuristic solution: objective 128.0000000\n",
      "Presolve removed 1 rows and 20 columns\n",
      "Presolve time: 0.00s\n",
      "Presolve: All rows and columns removed\n",
      "\n",
      "Explored 0 nodes (0 simplex iterations) in 0.01 seconds (0.00 work units)\n",
      "Thread count was 1 (of 12 available processors)\n",
      "\n",
      "Solution count 2: 203 128 \n",
      "\n",
      "Optimal solution found (tolerance 1.00e-04)\n",
      "Best objective 2.030000000000e+02, best bound 2.030000000000e+02, gap 0.0000%\n"
     ]
    }
   ],
   "source": [
    "model.optimize()"
   ]
  },
  {
   "attachments": {},
   "cell_type": "markdown",
   "metadata": {},
   "source": [
    "## Solving without Gurobi's ingenuities\n",
    "\n",
    "With default settings, it is solved during presolving."
   ]
  },
  {
   "cell_type": "code",
   "execution_count": 5,
   "metadata": {},
   "outputs": [
    {
     "name": "stdout",
     "output_type": "stream",
     "text": [
      "Discarded solution information\n",
      "Set parameter Cuts to value 0\n",
      "Set parameter Presolve to value 0\n",
      "Set parameter Heuristics to value 0\n",
      "Set parameter Symmetry to value 0\n",
      "Set parameter BranchDir to value 1\n",
      "Set parameter PreCrush to value 1\n"
     ]
    }
   ],
   "source": [
    "# Reset model\n",
    "model.reset()\n",
    "\n",
    "# This is purely illustrational. Gurobi already implements such methods, meaning that we do not win anything.\n",
    "# Tell Gurobi to be \"stupid\" by disabling many of their ingenuities\n",
    "model.Params.Cuts = 0\n",
    "model.Params.Presolve = 0\n",
    "model.Params.Heuristics = 0\n",
    "model.Params.Symmetry = 0\n",
    "model.Params.BranchDir = 1\n",
    "model.Params.PreCrush = 1  # Needed, see https://www.gurobi.com/documentation/10.0/refman/py_model_cbcut.html\n"
   ]
  },
  {
   "cell_type": "code",
   "execution_count": 6,
   "metadata": {},
   "outputs": [
    {
     "name": "stdout",
     "output_type": "stream",
     "text": [
      "Gurobi Optimizer version 10.0.1 build v10.0.1rc0 (linux64)\n",
      "\n",
      "CPU model: Intel(R) Core(TM) i7-9750H CPU @ 2.60GHz, instruction set [SSE2|AVX|AVX2]\n",
      "Thread count: 6 physical cores, 12 logical processors, using up to 12 threads\n",
      "\n",
      "Optimize a model with 1 rows, 20 columns and 20 nonzeros\n",
      "Model fingerprint: 0x7f939226\n",
      "Variable types: 0 continuous, 20 integer (20 binary)\n",
      "Coefficient statistics:\n",
      "  Matrix range     [2e+00, 2e+01]\n",
      "  Objective range  [2e+00, 2e+01]\n",
      "  Bounds range     [1e+00, 1e+00]\n",
      "  RHS range        [2e+02, 2e+02]\n",
      "Variable types: 0 continuous, 20 integer (20 binary)\n",
      "\n",
      "Root relaxation: objective 2.057500e+02, 1 iterations, 0.00 seconds (0.00 work units)\n",
      "\n",
      "    Nodes    |    Current Node    |     Objective Bounds      |     Work\n",
      " Expl Unexpl |  Obj  Depth IntInf | Incumbent    BestBd   Gap | It/Node Time\n",
      "\n",
      "     0     0  205.75000    0    1          -  205.75000      -     -    0s\n",
      "     0     0  205.75000    0    1          -  205.75000      -     -    0s\n",
      "     0     2  205.75000    0    1          -  205.75000      -     -    0s\n",
      "*   38    42               8     200.0000000  203.70588  1.85%   1.0    0s\n",
      "*   56    18               4     203.0000000  203.00000  0.00%   0.8    0s\n",
      "\n",
      "Explored 67 nodes (46 simplex iterations) in 0.02 seconds (0.00 work units)\n",
      "Thread count was 12 (of 12 available processors)\n",
      "\n",
      "Solution count 2: 203 200 \n",
      "\n",
      "Optimal solution found (tolerance 1.00e-04)\n",
      "Best objective 2.030000000000e+02, best bound 2.030000000000e+02, gap 0.0000%\n"
     ]
    }
   ],
   "source": [
    "model.optimize()"
   ]
  },
  {
   "attachments": {},
   "cell_type": "markdown",
   "metadata": {},
   "source": [
    "## Separate cover inequalities"
   ]
  },
  {
   "cell_type": "code",
   "execution_count": 7,
   "metadata": {},
   "outputs": [
    {
     "name": "stdout",
     "output_type": "stream",
     "text": [
      "Discarded solution information\n",
      "Gurobi Optimizer version 10.0.1 build v10.0.1rc0 (linux64)\n",
      "\n",
      "CPU model: Intel(R) Core(TM) i7-9750H CPU @ 2.60GHz, instruction set [SSE2|AVX|AVX2]\n",
      "Thread count: 6 physical cores, 12 logical processors, using up to 12 threads\n",
      "\n",
      "Optimize a model with 1 rows, 20 columns and 20 nonzeros\n",
      "Model fingerprint: 0x7f939226\n",
      "Variable types: 0 continuous, 20 integer (20 binary)\n",
      "Coefficient statistics:\n",
      "  Matrix range     [2e+00, 2e+01]\n",
      "  Objective range  [2e+00, 2e+01]\n",
      "  Bounds range     [1e+00, 1e+00]\n",
      "  RHS range        [2e+02, 2e+02]\n",
      "Variable types: 0 continuous, 20 integer (20 binary)\n",
      "\n",
      "Root relaxation: objective 2.057500e+02, 1 iterations, 0.00 seconds (0.00 work units)\n",
      "\n",
      "    Nodes    |    Current Node    |     Objective Bounds      |     Work\n",
      " Expl Unexpl |  Obj  Depth IntInf | Incumbent    BestBd   Gap | It/Node Time\n",
      "\n",
      "     0     0  205.75000    0    1          -  205.75000      -     -    0s\n",
      "\n",
      "# Solved branch-and-bound tree node to optimality. Search violated cover inequality:\n",
      "<gurobi.TempConstr: x[0] + x[5] + x[6] + x[7] + x[9] + x[10] + x[11] + x[12] + x[13] + x[14] + x[17] + x[18] <= 11>\n",
      "     0     0  204.77778    0    1          -  204.77778      -     -    0s\n",
      "\n",
      "# Solved branch-and-bound tree node to optimality. Search violated cover inequality:\n",
      "<gurobi.TempConstr: x[0] + x[2] + x[3] + x[6] + x[7] + x[9] + x[10] + x[11] + x[12] + x[13] + x[14] + x[15] + x[17] + x[18] <= 13>\n",
      "\n",
      "# Solved branch-and-bound tree node to optimality. Search violated cover inequality:\n",
      "<gurobi.TempConstr: x[0] + x[5] + x[6] + x[7] + x[9] + x[10] + x[11] + x[12] + x[14] + x[15] + x[17] + x[18] <= 11>\n",
      "     0     2  204.60000    0    3          -  204.60000      -     -    2s\n",
      "\n",
      "# Solved branch-and-bound tree node to optimality. Search violated cover inequality:\n",
      "<gurobi.TempConstr: x[0] + x[1] + x[2] + x[6] + x[7] + x[9] + x[10] + x[11] + x[12] + x[13] + x[14] + x[17] + x[18] <= 12>\n",
      "\n",
      "# Solved branch-and-bound tree node to optimality. Search violated cover inequality:\n",
      "<gurobi.TempConstr: x[0] + x[5] + x[6] + x[7] + x[9] + x[10] + x[11] + x[12] + x[13] + x[14] + x[15] + x[16] + x[17] <= 12>\n",
      "\n",
      "# Solved branch-and-bound tree node to optimality. Search violated cover inequality:\n",
      "<gurobi.TempConstr: x[0] + x[6] + x[7] + x[8] + x[9] + x[10] + x[11] + x[12] + x[13] + x[14] + x[17] + x[18] <= 11>\n",
      "\n",
      "# Solved branch-and-bound tree node to optimality. Search violated cover inequality:\n",
      "<gurobi.TempConstr: x[0] + x[2] + x[3] + x[5] + x[6] + x[7] + x[9] + x[11] + x[12] + x[13] + x[14] + x[15] + x[16] + x[17] + x[18] <= 14>\n",
      "\n",
      "# Solved branch-and-bound tree node to optimality. Search violated cover inequality:\n",
      "Search is unsuccessful\n",
      "\n",
      "# Found new solution with value 202.00\n",
      "0 (value 1.0, weight 13, profit 20)\n",
      "2 (value 1.0, weight 2, profit 10)\n",
      "5 (value 1.0, weight 16, profit 11)\n",
      "6 (value 1.0, weight 13, profit 16)\n",
      "7 (value 1.0, weight 10, profit 18)\n",
      "10 (value 1.0, weight 19, profit 14)\n",
      "11 (value 1.0, weight 7, profit 11)\n",
      "12 (value 1.0, weight 17, profit 20)\n",
      "13 (value 1.0, weight 5, profit 7)\n",
      "14 (value 1.0, weight 10, profit 18)\n",
      "15 (value 1.0, weight 5, profit 16)\n",
      "16 (value 1.0, weight 4, profit 15)\n",
      "17 (value 1.0, weight 20, profit 17)\n",
      "18 (value 1.0, weight 9, profit 9)\n",
      "*    5     6               2     202.0000000  203.70588  0.84%   2.0    7s\n",
      "\n",
      "# Solved branch-and-bound tree node to optimality. Search violated cover inequality:\n",
      "<gurobi.TempConstr: x[0] + x[1] + x[2] + x[6] + x[7] + x[9] + x[10] + x[11] + x[12] + x[14] + x[15] + x[17] + x[18] <= 12>\n",
      "\n",
      "# Solved branch-and-bound tree node to optimality. Search violated cover inequality:\n",
      "Search is unsuccessful\n",
      "\n",
      "# Found new solution with value 203.00\n",
      "0 (value 1.0, weight 13, profit 20)\n",
      "2 (value 1.0, weight 2, profit 10)\n",
      "6 (value 1.0, weight 13, profit 16)\n",
      "7 (value 1.0, weight 10, profit 18)\n",
      "9 (value 1.0, weight 12, profit 12)\n",
      "10 (value 1.0, weight 19, profit 14)\n",
      "11 (value 1.0, weight 7, profit 11)\n",
      "12 (value 1.0, weight 17, profit 20)\n",
      "13 (value 1.0, weight 5, profit 7)\n",
      "14 (value 1.0, weight 10, profit 18)\n",
      "15 (value 1.0, weight 5, profit 16)\n",
      "16 (value 1.0, weight 4, profit 15)\n",
      "17 (value 1.0, weight 20, profit 17)\n",
      "18 (value 1.0, weight 9, profit 9)\n",
      "*    7     0               3     203.0000000  203.00000  0.00%   2.1    9s\n",
      "\n",
      "Cutting planes:\n",
      "  User: 7\n",
      "\n",
      "Explored 11 nodes (17 simplex iterations) in 9.52 seconds (0.00 work units)\n",
      "Thread count was 12 (of 12 available processors)\n",
      "\n",
      "Solution count 2: 203 202 \n",
      "\n",
      "Optimal solution found (tolerance 1.00e-04)\n",
      "Best objective 2.030000000000e+02, best bound 2.030000000000e+02, gap 0.0000%\n",
      "\n",
      "User-callback calls 80, time in user-callback 9.50 sec\n"
     ]
    }
   ],
   "source": [
    "def find_cover_inequality(x : typing.List[gp.Var], x_frac : typing.List[float], max_weight):\n",
    "    \"\"\"\n",
    "    Given a fractional solution x_frac,\n",
    "    determine violated cover in equality.\n",
    "\n",
    "    Stupid algorithm: Just try all possible subsets, and give the first violated one that we find.\n",
    "    \"\"\"\n",
    "    for subset_size in range(n_items):\n",
    "        for subset in itertools.combinations(range(n_items), r=subset_size):\n",
    "            if sum(weights[i] for i in subset) > max_weight:\n",
    "                # This is a possible cover!\n",
    "                if sum(x_frac[i] for i in subset) > subset_size - 1 + 1e-6:  # Allow some slack, add 1e-6.\n",
    "                    # This is a violated cover!\n",
    "                    return gp.quicksum(x[i] for i in subset) <= subset_size - 1\n",
    "\n",
    "    # Did not find one!\n",
    "    return None\n",
    "\n",
    "\n",
    "def callback(model, where):\n",
    "    if where == gp.GRB.Callback.POLLING:\n",
    "        # Polling callback: This is called every so-many milliseconds.\n",
    "        return\n",
    "\n",
    "    if where == gp.GRB.Callback.MIPNODE:\n",
    "        # MIPNODE callback: A branch-and-bound tree node is solved to optimality\n",
    "        # Get status\n",
    "        status = model.cbGet(gp.GRB.Callback.MIPNODE_STATUS)\n",
    "        if status != gp.GRB.Status.OPTIMAL:\n",
    "            return\n",
    "\n",
    "        # Get (fractional) solution\n",
    "        x_frac = model.cbGetNodeRel(x)\n",
    "\n",
    "        print()\n",
    "        print(f\"# Solved branch-and-bound tree node to optimality. Search violated cover inequality:\")\n",
    "\n",
    "        # Find a violated cover inequality\n",
    "        cut = find_cover_inequality(x, x_frac, max_weight)\n",
    "        if cut is None:\n",
    "            print(\"Search is unsuccessful\")\n",
    "            return\n",
    "        else:\n",
    "            print(cut)\n",
    "            model.cbCut(cut)\n",
    "        return\n",
    "\n",
    "    if where == gp.GRB.Callback.MIPSOL:\n",
    "        x_sol = model.cbGetSolution(x)\n",
    "        # get the solution value; see https://www.gurobi.com/documentation/9.5/refman/cb_codes.html#sec:CallbackCodes\n",
    "        x_sol_val = model.cbGet(gp.GRB.Callback.MIPSOL_OBJ)\n",
    "\n",
    "        print()\n",
    "        print(f\"# Found new solution with value {x_sol_val:.2f}\")\n",
    "        items = [i for i in range(n_items) if x_sol[i] > .9]\n",
    "        for i in range(n_items):\n",
    "            if x_sol[i] < .5:\n",
    "                continue\n",
    "            print(f\"{i} (value {x_sol[i]:.1f}, weight {weights[i]}, profit {profits[i]})\")\n",
    "        return\n",
    "\n",
    "    pass\n",
    "\n",
    "model.reset()\n",
    "model.optimize(callback=callback)"
   ]
  },
  {
   "attachments": {},
   "cell_type": "markdown",
   "metadata": {},
   "source": [
    "# Example 2: Traveling Salesman Problem\n",
    "\n",
    "Given a graph $G = (V, E)$, and every edge $\\{i, j\\} \\in E$ having cost $c_{ij}$.\n",
    "\n",
    "Goal: Find a circuit in $G$ visiting all vertices $V$ traversing edges $C \\subseteq E$, such that $\\sum_{ij \\in C} c_{ij}$ is minimal.\n",
    "\n",
    "Decision variable: For all $\\{i, j\\} \\in E$, variable $x_{i, j} \\in \\{ 0, 1 \\}$ states whether edge $i, j$ is traversed in the circuit.\n",
    "\n",
    "$$\n",
    "\\begin{aligned}\n",
    "\\text{minimize}\\\n",
    "& \\sum_{ij \\in E} c_{ij} x_{ij}& \\\\\n",
    "\\text{subject to}\\\n",
    "& \\sum_{j \\in V \\setminus \\{ i \\}} x_{ij} = 2\n",
    "&& \\text{for all}\\ i \\in V\n",
    "&& \\text{(Enter and exit every vertex once)}\n",
    "\\\\\n",
    "& \\sum_{i \\in S, j \\in V \\setminus S} x_{ij} \\geq 2\n",
    "&& \\text{for all}\\ S \\subsetneq V, S \\neq \\emptyset\n",
    "&& \\text{(No subtours)}\n",
    "&& (\\dagger)\n",
    "\\\\\n",
    "& x \\in \\{ 0, 1 \\}^E\n",
    "\\end{aligned}\n",
    "$$\n",
    "\n",
    "Note that $(\\dagger)$ is a constraint for all $S \\subseteq V$, of which $2^{|V|}-1$ exist.\n",
    "We do not want to add these constraints in advance. $\\leadsto$ SEPARATION"
   ]
  },
  {
   "cell_type": "code",
   "execution_count": 8,
   "metadata": {},
   "outputs": [
    {
     "name": "stdout",
     "output_type": "stream",
     "text": [
      "Upper 5 by 5 distance matrix:\n"
     ]
    },
    {
     "data": {
      "text/plain": [
       "array([[0.        , 0.1786471 , 0.14306129, 0.20869372, 0.53118409],\n",
       "       [0.1786471 , 0.        , 0.20562852, 0.3842079 , 0.39536284],\n",
       "       [0.14306129, 0.20562852, 0.        , 0.2462733 , 0.60040816],\n",
       "       [0.20869372, 0.3842079 , 0.2462733 , 0.        , 0.73154383],\n",
       "       [0.53118409, 0.39536284, 0.60040816, 0.73154383, 0.        ]])"
      ]
     },
     "metadata": {},
     "output_type": "display_data"
    },
    {
     "data": {
      "image/png": "[encoded data removed]",
      "text/plain": [
       "<Figure size 640x480 with 1 Axes>"
      ]
     },
     "metadata": {},
     "output_type": "display_data"
    }
   ],
   "source": [
    "# Fabricate an Euclidean TSP instance.\n",
    "n_vertices = 30\n",
    "\n",
    "# Random x and y coordinates\n",
    "np.random.seed(0)\n",
    "pos = np.random.rand(n_vertices, 2)\n",
    "pos_x = pos[:, 0]\n",
    "pos_y = pos[:, 1]\n",
    "\n",
    "# Compute Euclidean distances between all coordinate-pairs\n",
    "dist = np.sqrt(\n",
    "    np.power(pos_x[:, np.newaxis] - pos_x[np.newaxis, :], 2) +\n",
    "    np.power(pos_y[:, np.newaxis] - pos_y[np.newaxis, :], 2)\n",
    ")\n",
    "print(\"Upper 5 by 5 distance matrix:\")\n",
    "display(dist[:5, :5])\n",
    "\n",
    "fig, ax = plt.subplots()\n",
    "ax.set_title(\"Vertex positions\")\n",
    "ax.set_xlim(0, 1)\n",
    "ax.set_ylim(0, 1)\n",
    "ax.set_aspect(1)\n",
    "ax.scatter(pos_x, pos_y)\n",
    "plt.show()"
   ]
  },
  {
   "cell_type": "code",
   "execution_count": 9,
   "metadata": {},
   "outputs": [
    {
     "name": "stdout",
     "output_type": "stream",
     "text": [
      "Set parameter LazyConstraints to value 1\n",
      "Gurobi Optimizer version 10.0.1 build v10.0.1rc0 (linux64)\n",
      "\n",
      "CPU model: Intel(R) Core(TM) i7-9750H CPU @ 2.60GHz, instruction set [SSE2|AVX|AVX2]\n",
      "Thread count: 6 physical cores, 12 logical processors, using up to 12 threads\n",
      "\n",
      "Optimize a model with 30 rows, 435 columns and 870 nonzeros\n",
      "Model fingerprint: 0x489505fe\n",
      "Variable types: 0 continuous, 435 integer (435 binary)\n",
      "Coefficient statistics:\n",
      "  Matrix range     [1e+00, 1e+00]\n",
      "  Objective range  [3e-02, 1e+00]\n",
      "  Bounds range     [1e+00, 1e+00]\n",
      "  RHS range        [2e+00, 2e+00]\n",
      "Found heuristic solution: objective 16.2212163\n",
      "Presolve time: 0.00s\n",
      "Presolved: 30 rows, 435 columns, 870 nonzeros\n",
      "Variable types: 0 continuous, 435 integer (435 binary)\n",
      "\n",
      "Root relaxation: objective 4.674165e+00, 48 iterations, 0.00 seconds (0.00 work units)\n",
      "\n",
      "    Nodes    |    Current Node    |     Objective Bounds      |     Work\n",
      " Expl Unexpl |  Obj  Depth IntInf | Incumbent    BestBd   Gap | It/Node Time\n",
      "\n",
      "     0     0    4.67417    0    6   16.22122    4.67417  71.2%     -    0s\n",
      "H    0     0                       4.9712609    4.67417  5.98%     -    0s\n",
      "H    0     0                       4.7083553    4.67417  0.73%     -    0s\n",
      "     0     0     cutoff    0         4.70836    4.70836  0.00%     -    0s\n",
      "\n",
      "Cutting planes:\n",
      "  Clique: 2\n",
      "\n",
      "Explored 1 nodes (51 simplex iterations) in 0.02 seconds (0.00 work units)\n",
      "Thread count was 12 (of 12 available processors)\n",
      "\n",
      "Solution count 3: 4.70836 4.97126 16.2212 \n",
      "\n",
      "Optimal solution found (tolerance 1.00e-04)\n",
      "Best objective 4.708355265885e+00, best bound 4.708355265885e+00, gap 0.0000%\n"
     ]
    }
   ],
   "source": [
    "model : gp.Model = gp.Model(name=\"TSP\")\n",
    "\n",
    "# Enable lazy constraints!\n",
    "# (these are not cutting planes, because subtour elimination constraints\n",
    "# are not implied by enter/exit neighbour constraints)\n",
    "model.Params.LazyConstraints = 1\n",
    "\n",
    "edges = list(itertools.combinations(range(n_vertices), r=2))\n",
    "\n",
    "# A binary variable for every edge\n",
    "x = model.addVars(edges, vtype=gp.GRB.BINARY, name=\"x\")\n",
    "\n",
    "# Neighbour constraints\n",
    "model.addConstrs(\n",
    "    constrs=(\n",
    "        gp.quicksum(var for (i_, j_), var in x.items() if i in [i_, j_]) == 2\n",
    "        for i in range(n_vertices)\n",
    "    ),\n",
    "    name=\"neighbour\"\n",
    ")\n",
    "\n",
    "# Set objective\n",
    "model.setObjective(gp.quicksum(dist[i, j] * var for (i, j), var in x.items()), sense=gp.GRB.MINIMIZE)\n",
    "\n",
    "# Solve model\n",
    "model.optimize()"
   ]
  },
  {
   "cell_type": "code",
   "execution_count": 10,
   "metadata": {},
   "outputs": [
    {
     "data": {
      "image/png": "[encoded data removed]",
      "text/plain": [
       "<Figure size 640x480 with 1 Axes>"
      ]
     },
     "metadata": {},
     "output_type": "display_data"
    }
   ],
   "source": [
    "fig, ax = plt.subplots()\n",
    "ax.set_title(\"Vertex positions\")\n",
    "ax.set_xlim(0, 1)\n",
    "ax.set_ylim(0, 1)\n",
    "ax.set_aspect(1)\n",
    "\n",
    "# Plot solution\n",
    "for (i, j), var in x.items():\n",
    "    if var.X > .5:\n",
    "        # Edge (i, j) is selected!\n",
    "        ax.plot((pos_x[i], pos_x[j]), (pos_y[i], pos_y[j]), \"r\")\n",
    "ax.scatter(pos_x, pos_y)\n",
    "\n",
    "plt.show()\n"
   ]
  },
  {
   "cell_type": "code",
   "execution_count": 11,
   "metadata": {},
   "outputs": [
    {
     "name": "stdout",
     "output_type": "stream",
     "text": [
      "Discarded solution information\n",
      "Gurobi Optimizer version 10.0.1 build v10.0.1rc0 (linux64)\n",
      "\n",
      "CPU model: Intel(R) Core(TM) i7-9750H CPU @ 2.60GHz, instruction set [SSE2|AVX|AVX2]\n",
      "Thread count: 6 physical cores, 12 logical processors, using up to 12 threads\n",
      "\n",
      "Optimize a model with 30 rows, 435 columns and 870 nonzeros\n",
      "Model fingerprint: 0x489505fe\n",
      "Variable types: 0 continuous, 435 integer (435 binary)\n",
      "Coefficient statistics:\n",
      "  Matrix range     [1e+00, 1e+00]\n",
      "  Objective range  [3e-02, 1e+00]\n",
      "  Bounds range     [1e+00, 1e+00]\n",
      "  RHS range        [2e+00, 2e+00]\n",
      "Subtour elimination of {3, 15, 18, 20, 26}\n",
      "Presolve time: 0.00s\n",
      "Presolved: 30 rows, 435 columns, 870 nonzeros\n",
      "Variable types: 0 continuous, 435 integer (435 binary)\n",
      "Subtour elimination of {1, 25, 14}\n",
      "Subtour elimination of {2, 3, 4, 5, 6, 9, 10, 11, 16, 19, 20, 21, 24, 26, 28, 29}\n",
      "Subtour elimination of {27, 23, 7}\n",
      "Subtour elimination of {8, 12, 13, 15, 17}\n",
      "Subtour elimination of {27, 3, 2, 26}\n",
      "Subtour elimination of {24, 25, 4, 5}\n",
      "Subtour elimination of {23, 7, 6, 22}\n",
      "Subtour elimination of {8, 9, 20, 21}\n",
      "Subtour elimination of {19, 11, 10, 18}\n",
      "Subtour elimination of {12, 13, 14, 15, 16, 17}\n",
      "\n",
      "Root relaxation: objective 5.102302e+00, 59 iterations, 0.00 seconds (0.00 work units)\n",
      "Subtour elimination of {2, 7, 8, 12, 13, 15, 16, 17, 20, 23, 24, 27}\n",
      "\n",
      "    Nodes    |    Current Node    |     Objective Bounds      |     Work\n",
      " Expl Unexpl |  Obj  Depth IntInf | Incumbent    BestBd   Gap | It/Node Time\n",
      "\n",
      "     0     0    5.10230    0    -          -    5.10230      -     -    0s\n",
      "     0     0    5.10875    0   16          -    5.10875      -     -    0s\n",
      "Subtour elimination of {24, 27, 23, 7}\n",
      "Subtour elimination of {16, 24, 2, 15}\n",
      "H    0     0                       5.4345715    5.10875  6.00%     -    0s\n",
      "H    0     0                       5.2560213    5.10875  2.80%     -    0s\n",
      "*    0     0               0       5.1131526    5.11315  0.00%     -    0s\n",
      "\n",
      "Cutting planes:\n",
      "  Zero half: 1\n",
      "  Lazy constraints: 13\n",
      "\n",
      "Explored 1 nodes (65 simplex iterations) in 0.03 seconds (0.00 work units)\n",
      "Thread count was 12 (of 12 available processors)\n",
      "\n",
      "Solution count 3: 5.11315 5.25602 5.43457 \n",
      "\n",
      "Optimal solution found (tolerance 1.00e-04)\n",
      "Best objective 5.113152581590e+00, best bound 5.113152581590e+00, gap 0.0000%\n",
      "\n",
      "User-callback calls 125, time in user-callback 0.01 sec\n"
     ]
    }
   ],
   "source": [
    "# Callback.\n",
    "def callback(model, where):\n",
    "    # Ignore polling callbacks.\n",
    "    if where == gp.GRB.Callback.POLLING:\n",
    "        return\n",
    "\n",
    "    # A LP-solution got solved during branch-and-bound.\n",
    "    if where == gp.GRB.Callback.MIPNODE:\n",
    "        # Ignore (for now?)\n",
    "        # x_rel = model.cbGetNodeRel(x)\n",
    "        return\n",
    "\n",
    "    if where == gp.GRB.Callback.MIPSOL:\n",
    "        # An integer solution is found!\n",
    "        # Get the integer solution of our variables x.\n",
    "        x_sol = model.cbGetSolution(x)\n",
    "\n",
    "        # Determine if the graph is disconnected.\n",
    "        g : nx.Graph = nx.Graph()\n",
    "        g.add_edges_from((i, j) for (i, j), val in x_sol.items() if val > .5)\n",
    "\n",
    "        connected_components = list(nx.connected_components(g))\n",
    "\n",
    "        # print(connected_components)\n",
    "\n",
    "        # We are happy if the graph is connected.\n",
    "        if len(connected_components) == 1:\n",
    "            return\n",
    "\n",
    "        # Graph is not connected\n",
    "        for S in connected_components[1:]:\n",
    "            T = set(range(n_vertices))\n",
    "            T.difference_update(S)\n",
    "            print(f\"Subtour elimination of {S}\")\n",
    "            model.cbLazy(gp.quicksum(x[i, j] for (i, j) in x if ((i in S) ^ (j in S))) >= 2)\n",
    "\n",
    "model.reset()\n",
    "model.optimize(callback=callback)"
   ]
  },
  {
   "cell_type": "code",
   "execution_count": 12,
   "metadata": {},
   "outputs": [
    {
     "data": {
      "image/png": "[encoded data removed]",
      "text/plain": [
       "<Figure size 640x480 with 1 Axes>"
      ]
     },
     "metadata": {},
     "output_type": "display_data"
    }
   ],
   "source": [
    "fig, ax = plt.subplots()\n",
    "ax.set_title(\"Vertex positions\")\n",
    "ax.set_xlim(0, 1)\n",
    "ax.set_ylim(0, 1)\n",
    "ax.set_aspect(1)\n",
    "\n",
    "# Plot solution\n",
    "for (i, j), var in x.items():\n",
    "    if var.X > .5:\n",
    "        # Edge (i, j) is selected!\n",
    "        ax.plot((pos_x[i], pos_x[j]), (pos_y[i], pos_y[j]), \"r\")\n",
    "ax.scatter(pos_x, pos_y)\n",
    "\n",
    "plt.show()\n"
   ]
  },
  {
   "cell_type": "code",
   "execution_count": null,
   "metadata": {},
   "outputs": [],
   "source": []
  }
 ],
 "metadata": {
  "kernelspec": {
   "display_name": "pyenv_scip",
   "language": "python",
   "name": "python3"
  },
  "language_info": {
   "codemirror_mode": {
    "name": "ipython",
    "version": 3
   },
   "file_extension": ".py",
   "mimetype": "text/x-python",
   "name": "python",
   "nbconvert_exporter": "python",
   "pygments_lexer": "ipython3",
   "version": "3.10.6"
  },
  "orig_nbformat": 4
 },
 "nbformat": 4,
 "nbformat_minor": 2
}
